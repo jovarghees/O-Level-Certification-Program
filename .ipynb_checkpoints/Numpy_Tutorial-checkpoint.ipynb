{
 "cells": [
  {
   "cell_type": "code",
   "execution_count": 1,
   "id": "4e560f74",
   "metadata": {},
   "outputs": [],
   "source": [
    "#import numpy as np\n"
   ]
  },
  {
   "cell_type": "code",
   "execution_count": 2,
   "id": "70a36c07",
   "metadata": {},
   "outputs": [],
   "source": [
    "#Create an !D array\n",
    "a1 = np.array([]) #1D\n"
   ]
  },
  {
   "cell_type": "code",
   "execution_count": 3,
   "id": "e5170929",
   "metadata": {},
   "outputs": [],
   "source": [
    "#Create a 2D array\n",
    "a2 = #2D"
   ]
  },
  {
   "cell_type": "code",
   "execution_count": 8,
   "id": "c51b0c26",
   "metadata": {},
   "outputs": [
    {
     "ename": "SyntaxError",
     "evalue": "invalid syntax (3682463543.py, line 2)",
     "output_type": "error",
     "traceback": [
      "\u001b[0;36m  Cell \u001b[0;32mIn[8], line 2\u001b[0;36m\u001b[0m\n\u001b[0;31m    a3 =\u001b[0m\n\u001b[0m         ^\u001b[0m\n\u001b[0;31mSyntaxError\u001b[0m\u001b[0;31m:\u001b[0m invalid syntax\n"
     ]
    }
   ],
   "source": [
    "#Create a 3D array\n",
    "a3 = "
   ]
  },
  {
   "cell_type": "code",
   "execution_count": 10,
   "id": "d35a590b",
   "metadata": {},
   "outputs": [
    {
     "data": {
      "text/plain": [
       "(3, 2, 3)"
      ]
     },
     "execution_count": 10,
     "metadata": {},
     "output_type": "execute_result"
    }
   ],
   "source": [
    "# Check the shape of a3\n",
    "a3.shape #output (depth(o no of layers),row,col)"
   ]
  },
  {
   "cell_type": "code",
   "execution_count": 14,
   "id": "9e47a385",
   "metadata": {},
   "outputs": [
    {
     "data": {
      "text/plain": [
       "11"
      ]
     },
     "execution_count": 14,
     "metadata": {},
     "output_type": "execute_result"
    }
   ],
   "source": [
    "#Display the number at position 2,1,1\n"
   ]
  },
  {
   "cell_type": "code",
   "execution_count": 16,
   "id": "780b3336",
   "metadata": {},
   "outputs": [
    {
     "data": {
      "text/plain": [
       "1"
      ]
     },
     "execution_count": 16,
     "metadata": {},
     "output_type": "execute_result"
    }
   ],
   "source": [
    "#Dispaly dimentions of a1 \n",
    "a1.ndim\n",
    "#Dispaly dimentions of a2 using ndim\n"
   ]
  },
  {
   "cell_type": "code",
   "execution_count": 27,
   "id": "7356d287",
   "metadata": {},
   "outputs": [
    {
     "data": {
      "text/plain": [
       "dtype('float64')"
      ]
     },
     "execution_count": 27,
     "metadata": {},
     "output_type": "execute_result"
    }
   ],
   "source": [
    "#check the data type of a2\n",
    "a2.dtype # if one value of a matrix is float then dtyoe will return a "
   ]
  },
  {
   "cell_type": "code",
   "execution_count": 1,
   "id": "335633c4",
   "metadata": {},
   "outputs": [
    {
     "ename": "NameError",
     "evalue": "name 'a2' is not defined",
     "output_type": "error",
     "traceback": [
      "\u001b[0;31m---------------------------------------------------------------------------\u001b[0m",
      "\u001b[0;31mNameError\u001b[0m                                 Traceback (most recent call last)",
      "Cell \u001b[0;32mIn[1], line 2\u001b[0m\n\u001b[1;32m      1\u001b[0m \u001b[38;5;66;03m# Check data type of a3\u001b[39;00m\n\u001b[0;32m----> 2\u001b[0m \u001b[43ma2\u001b[49m\u001b[38;5;241m.\u001b[39mdtype\n",
      "\u001b[0;31mNameError\u001b[0m: name 'a2' is not defined"
     ]
    }
   ],
   "source": [
    "# Check data type of a3\n"
   ]
  },
  {
   "cell_type": "code",
   "execution_count": 30,
   "id": "d3767262",
   "metadata": {},
   "outputs": [
    {
     "data": {
      "text/plain": [
       "list"
      ]
     },
     "execution_count": 30,
     "metadata": {},
     "output_type": "execute_result"
    }
   ],
   "source": [
    "# Create a list in python\n"
   ]
  },
  {
   "cell_type": "code",
   "execution_count": 2,
   "id": "fe6a9d00",
   "metadata": {},
   "outputs": [
    {
     "ename": "NameError",
     "evalue": "name 'np' is not defined",
     "output_type": "error",
     "traceback": [
      "\u001b[0;31m---------------------------------------------------------------------------\u001b[0m",
      "\u001b[0;31mNameError\u001b[0m                                 Traceback (most recent call last)",
      "Cell \u001b[0;32mIn[2], line 2\u001b[0m\n\u001b[1;32m      1\u001b[0m \u001b[38;5;66;03m#Create a matrix of size (5,3) and fill it with random values below 10\u001b[39;00m\n\u001b[0;32m----> 2\u001b[0m \u001b[43mnp\u001b[49m\u001b[38;5;241m.\u001b[39mrandom\u001b[38;5;241m.\u001b[39mseed(\u001b[38;5;241m0\u001b[39m) \u001b[38;5;66;03m# 1 for changing every refreshments\u001b[39;00m\n",
      "\u001b[0;31mNameError\u001b[0m: name 'np' is not defined"
     ]
    }
   ],
   "source": [
    "#Create a matrix of size (5,3) and fill it with random values below 10\n",
    "np.random.seed(0) # 1 for changing every refreshments"
   ]
  },
  {
   "cell_type": "code",
   "execution_count": 3,
   "id": "99522079",
   "metadata": {},
   "outputs": [],
   "source": [
    "#Create a 100 X 100 unity matrix\n"
   ]
  },
  {
   "cell_type": "code",
   "execution_count": 4,
   "id": "4bb913ea",
   "metadata": {},
   "outputs": [],
   "source": [
    "#Create a 10X10 zero matrix"
   ]
  },
  {
   "cell_type": "code",
   "execution_count": 5,
   "id": "98766078",
   "metadata": {},
   "outputs": [],
   "source": [
    "#Slice the first row of the matrix np_array\n"
   ]
  },
  {
   "cell_type": "code",
   "execution_count": 6,
   "id": "a1822704",
   "metadata": {},
   "outputs": [],
   "source": [
    "#Slice a 2X2 matrix from np_array\n"
   ]
  },
  {
   "cell_type": "code",
   "execution_count": 7,
   "id": "29ea621b",
   "metadata": {},
   "outputs": [],
   "source": [
    "# find the transpose of the matric np_array"
   ]
  },
  {
   "cell_type": "code",
   "execution_count": null,
   "id": "cd6dc5d0",
   "metadata": {},
   "outputs": [],
   "source": []
  }
 ],
 "metadata": {
  "kernelspec": {
   "display_name": "Python 3 (ipykernel)",
   "language": "python",
   "name": "python3"
  },
  "language_info": {
   "codemirror_mode": {
    "name": "ipython",
    "version": 3
   },
   "file_extension": ".py",
   "mimetype": "text/x-python",
   "name": "python",
   "nbconvert_exporter": "python",
   "pygments_lexer": "ipython3",
   "version": "3.10.6"
  }
 },
 "nbformat": 4,
 "nbformat_minor": 5
}
