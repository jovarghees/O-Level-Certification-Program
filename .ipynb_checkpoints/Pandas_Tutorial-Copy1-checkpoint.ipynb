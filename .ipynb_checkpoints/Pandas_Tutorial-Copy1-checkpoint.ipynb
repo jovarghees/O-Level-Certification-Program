{
 "cells": [
  {
   "cell_type": "markdown",
   "id": "71135276",
   "metadata": {},
   "source": [
    "# Pandas Practice\n"
   ]
  },
  {
   "cell_type": "code",
   "execution_count": 1,
   "id": "76661e4e",
   "metadata": {},
   "outputs": [],
   "source": [
    "# Import pandas"
   ]
  },
  {
   "cell_type": "code",
   "execution_count": 2,
   "id": "fe1d352a",
   "metadata": {},
   "outputs": [],
   "source": [
    "# Create a series of three different colours"
   ]
  },
  {
   "cell_type": "code",
   "execution_count": null,
   "id": "be04e386",
   "metadata": {},
   "outputs": [],
   "source": [
    "# View the series of different colours"
   ]
  },
  {
   "cell_type": "code",
   "execution_count": null,
   "id": "f6ae149b",
   "metadata": {},
   "outputs": [],
   "source": [
    "# Create a series of three different car types and view it"
   ]
  },
  {
   "cell_type": "code",
   "execution_count": null,
   "id": "2d9bacf3",
   "metadata": {},
   "outputs": [],
   "source": [
    "# Combine the Series of cars and colours into a DataFrame\n"
   ]
  },
  {
   "cell_type": "code",
   "execution_count": null,
   "id": "74b3516d",
   "metadata": {},
   "outputs": [],
   "source": [
    "# Import \"../data/car-sales.csv\" and turn it into a DataFrame"
   ]
  },
  {
   "cell_type": "markdown",
   "id": "ae36338c",
   "metadata": {},
   "source": [
    "**Note:** Since you've imported `car-sales.csv` as a DataFrame, we'll now refer to this DataFrame as 'the car sales DataFrame'."
   ]
  },
  {
   "cell_type": "code",
   "execution_count": 12,
   "id": "58ab6e67",
   "metadata": {},
   "outputs": [],
   "source": [
    "# Export the DataFrame you created to a .csv file"
   ]
  },
  {
   "cell_type": "code",
   "execution_count": null,
   "id": "ac67f32c",
   "metadata": {},
   "outputs": [],
   "source": [
    "# Find the different datatypes of the car data DataFrame"
   ]
  },
  {
   "cell_type": "raw",
   "id": "671e0945",
   "metadata": {},
   "source": []
  },
  {
   "cell_type": "code",
   "execution_count": 9,
   "id": "63bc0b67",
   "metadata": {},
   "outputs": [],
   "source": [
    "# Describe your current car sales DataFrame using describe()\n"
   ]
  },
  {
   "cell_type": "code",
   "execution_count": null,
   "id": "e0b8d3dd",
   "metadata": {},
   "outputs": [],
   "source": [
    "# Get information about your DataFrame using info()"
   ]
  },
  {
   "cell_type": "markdown",
   "id": "31769ed2",
   "metadata": {},
   "source": [
    "What does it show you?"
   ]
  },
  {
   "cell_type": "code",
   "execution_count": 11,
   "id": "ec688212",
   "metadata": {},
   "outputs": [],
   "source": [
    "# Create a Series of different numbers and find the mean of them\n"
   ]
  },
  {
   "cell_type": "code",
   "execution_count": 12,
   "id": "9efbd8ff",
   "metadata": {},
   "outputs": [],
   "source": [
    "# Create a Series of different numbers and find the sum of them\n"
   ]
  },
  {
   "cell_type": "code",
   "execution_count": null,
   "id": "90756ddd",
   "metadata": {},
   "outputs": [],
   "source": [
    "# List out all the column names of the car sales DataFrame\n"
   ]
  },
  {
   "cell_type": "code",
   "execution_count": null,
   "id": "201b79d7",
   "metadata": {},
   "outputs": [],
   "source": [
    "# Find the length of the car sales DataFrame"
   ]
  },
  {
   "cell_type": "code",
   "execution_count": null,
   "id": "f67df75b",
   "metadata": {},
   "outputs": [],
   "source": [
    "# Show the first 5 rows of the car sales DataFrame"
   ]
  },
  {
   "cell_type": "code",
   "execution_count": null,
   "id": "0aa28b89",
   "metadata": {},
   "outputs": [],
   "source": [
    "# Show the first 7 rows of the car sales DataFrame"
   ]
  },
  {
   "cell_type": "code",
   "execution_count": null,
   "id": "0284d0cc",
   "metadata": {},
   "outputs": [],
   "source": [
    "# Show the bottom 5 rows of the car sales DataFrame"
   ]
  },
  {
   "cell_type": "code",
   "execution_count": null,
   "id": "49afa6a6",
   "metadata": {},
   "outputs": [],
   "source": [
    "# Use .loc to select the row at index 3 of the car sales DataFrame"
   ]
  },
  {
   "cell_type": "code",
   "execution_count": null,
   "id": "71068631",
   "metadata": {},
   "outputs": [],
   "source": [
    "# Use .iloc to select the row at position 3 of the car sales DataFrame\n"
   ]
  },
  {
   "cell_type": "markdown",
   "id": "db25be4f",
   "metadata": {},
   "source": [
    "Notice how they're the same? Why do you think this is? \n",
    "\n",
    "Check the pandas documentation for [.loc](https://pandas.pydata.org/pandas-docs/stable/reference/api/pandas.DataFrame.loc.html) and [.iloc](https://pandas.pydata.org/pandas-docs/stable/reference/api/pandas.DataFrame.iloc.html). Think about a different situation each could be used for and try them out."
   ]
  },
  {
   "cell_type": "code",
   "execution_count": 20,
   "id": "7a807e5a",
   "metadata": {},
   "outputs": [],
   "source": [
    "# Select the \"Odometer (KM)\" column from the car sales DataFrame\n"
   ]
  },
  {
   "cell_type": "code",
   "execution_count": null,
   "id": "51520534",
   "metadata": {},
   "outputs": [],
   "source": [
    "# Find the mean of the \"Odometer (KM)\" column in the car sales DataFrame"
   ]
  },
  {
   "cell_type": "code",
   "execution_count": null,
   "id": "9f14db63",
   "metadata": {},
   "outputs": [],
   "source": [
    "# Select the rows with over 100,000 kilometers on the Odometer"
   ]
  },
  {
   "cell_type": "code",
   "execution_count": null,
   "id": "c2d7fbb5",
   "metadata": {},
   "outputs": [],
   "source": [
    "# Create a crosstab of the Make and Doors columns"
   ]
  },
  {
   "cell_type": "code",
   "execution_count": null,
   "id": "a79a55a9",
   "metadata": {},
   "outputs": [],
   "source": [
    "# Group columns of the car sales DataFrame by the Make column and find the average"
   ]
  },
  {
   "cell_type": "code",
   "execution_count": null,
   "id": "dc284cc1",
   "metadata": {},
   "outputs": [],
   "source": [
    "# Import Matplotlib and create a plot of the Odometer column\n",
    "# Don't forget to use %matplotlib inline"
   ]
  },
  {
   "cell_type": "code",
   "execution_count": null,
   "id": "06906dd6",
   "metadata": {},
   "outputs": [],
   "source": [
    "# Create a histogram of the Odometer column using hist()\n"
   ]
  },
  {
   "cell_type": "code",
   "execution_count": null,
   "id": "35fc7ba8",
   "metadata": {},
   "outputs": [],
   "source": [
    "# Try to plot the Price column using plot()"
   ]
  },
  {
   "cell_type": "markdown",
   "id": "24d08375",
   "metadata": {},
   "source": [
    "Why didn't it work? Can you think of a solution?"
   ]
  },
  {
   "cell_type": "code",
   "execution_count": null,
   "id": "e8b62bd8",
   "metadata": {},
   "outputs": [],
   "source": [
    "# Remove the punctuation from price column"
   ]
  },
  {
   "cell_type": "code",
   "execution_count": null,
   "id": "8db2ec85",
   "metadata": {},
   "outputs": [],
   "source": [
    "# Check the changes to the price column"
   ]
  },
  {
   "cell_type": "code",
   "execution_count": null,
   "id": "c1d0eaff",
   "metadata": {},
   "outputs": [],
   "source": [
    "# Remove the two extra zeros at the end of the price column"
   ]
  },
  {
   "cell_type": "code",
   "execution_count": 31,
   "id": "9b966ffd",
   "metadata": {},
   "outputs": [],
   "source": [
    "# Check the changes to the Price column"
   ]
  },
  {
   "cell_type": "code",
   "execution_count": null,
   "id": "38e9a1b4",
   "metadata": {},
   "outputs": [],
   "source": [
    "# Change the datatype of the Price column to integers"
   ]
  },
  {
   "cell_type": "code",
   "execution_count": null,
   "id": "47ada509",
   "metadata": {},
   "outputs": [],
   "source": [
    "# Lower the strings of the Make column"
   ]
  },
  {
   "cell_type": "markdown",
   "id": "ce55b2a2",
   "metadata": {},
   "source": [
    "If you check the car sales DataFrame, you'll notice the Make column hasn't been lowered.\n",
    "\n",
    "How could you make these changes permanent?\n",
    "\n",
    "Try it out."
   ]
  },
  {
   "cell_type": "code",
   "execution_count": 34,
   "id": "3682b815",
   "metadata": {},
   "outputs": [],
   "source": [
    "# Make lowering the case of the Make column permanent\n"
   ]
  },
  {
   "cell_type": "code",
   "execution_count": 35,
   "id": "3b971da6",
   "metadata": {},
   "outputs": [],
   "source": [
    "# Check the car sales DataFrame\n"
   ]
  },
  {
   "cell_type": "markdown",
   "id": "a72aa5b8",
   "metadata": {},
   "source": [
    "Notice how the Make column stays lowered after reassigning.\n",
    "\n",
    "Now let's deal with missing data."
   ]
  },
  {
   "cell_type": "code",
   "execution_count": null,
   "id": "770c39e4",
   "metadata": {},
   "outputs": [],
   "source": [
    "# Import the car sales DataFrame with missing data (\"../data/car-sales-missing-data.csv\")\n",
    "\n",
    "# Check out the new DataFrame"
   ]
  },
  {
   "cell_type": "markdown",
   "id": "4829ae79",
   "metadata": {},
   "source": [
    "Notice the missing values are represented as `NaN` in pandas DataFrames.\n",
    "\n",
    "Let's try fill them."
   ]
  },
  {
   "cell_type": "code",
   "execution_count": null,
   "id": "66fe0a0d",
   "metadata": {
    "scrolled": true
   },
   "outputs": [],
   "source": [
    "# Fill the Odometer column missing values with the mean of the column inplace"
   ]
  },
  {
   "cell_type": "code",
   "execution_count": null,
   "id": "b04a48f7",
   "metadata": {},
   "outputs": [],
   "source": [
    "# View the car sales missing DataFrame and verify the changes"
   ]
  },
  {
   "cell_type": "code",
   "execution_count": null,
   "id": "5e209aa8",
   "metadata": {},
   "outputs": [],
   "source": [
    "# Remove the rest of the missing data inplace"
   ]
  },
  {
   "cell_type": "code",
   "execution_count": 40,
   "id": "016eb575",
   "metadata": {},
   "outputs": [],
   "source": [
    "# Verify the missing values are removed by viewing the DataFrame\n"
   ]
  },
  {
   "cell_type": "markdown",
   "id": "74a074d0",
   "metadata": {},
   "source": [
    "We'll now start to add columns to our DataFrame."
   ]
  },
  {
   "cell_type": "code",
   "execution_count": null,
   "id": "dc3492a5",
   "metadata": {},
   "outputs": [],
   "source": [
    "# Create a \"Seats\" column where every row has a value of 5"
   ]
  },
  {
   "cell_type": "code",
   "execution_count": null,
   "id": "f9d23710",
   "metadata": {},
   "outputs": [],
   "source": [
    "# Create a column called \"Engine Size\" with random values between 1.3 and 4.5\n",
    "# Remember: If you're doing it from a Python list, the list has to be the same length\n",
    "# as the DataFrame"
   ]
  },
  {
   "cell_type": "code",
   "execution_count": 43,
   "id": "8c9a3f0d",
   "metadata": {},
   "outputs": [],
   "source": [
    "# Create a column which represents the price of a car per kilometer\n",
    "# Then view the DataFrame\n"
   ]
  },
  {
   "cell_type": "code",
   "execution_count": 44,
   "id": "82bbb6a6",
   "metadata": {},
   "outputs": [],
   "source": [
    "# Remove the last column you added using .drop()\n"
   ]
  },
  {
   "cell_type": "code",
   "execution_count": 45,
   "id": "ab01254a",
   "metadata": {},
   "outputs": [],
   "source": [
    "# Shuffle the DataFrame using sample() with the frac parameter set to 1\n",
    "# Save the the shuffled DataFrame to a new variable\n"
   ]
  },
  {
   "cell_type": "markdown",
   "id": "105ef479",
   "metadata": {},
   "source": [
    "Notice how the index numbers get moved around. The [`sample()`](https://pandas.pydata.org/pandas-docs/stable/reference/api/pandas.DataFrame.sample.html) function is a great way to get random samples from your DataFrame. It's also another great way to shuffle the rows by setting `frac=1`."
   ]
  },
  {
   "cell_type": "code",
   "execution_count": 46,
   "id": "80041623",
   "metadata": {},
   "outputs": [],
   "source": [
    "# Reset the indexes of the shuffled DataFrame\n"
   ]
  },
  {
   "cell_type": "markdown",
   "id": "f3e92acb",
   "metadata": {},
   "source": [
    "Notice the index numbers have been changed to have order (start from 0)."
   ]
  },
  {
   "cell_type": "code",
   "execution_count": 47,
   "id": "117331f0",
   "metadata": {},
   "outputs": [],
   "source": [
    "# Change the Odometer values from kilometers to miles using a Lambda function\n",
    "# Then view the DataFrame\n"
   ]
  },
  {
   "cell_type": "code",
   "execution_count": 48,
   "id": "b3a0d535",
   "metadata": {},
   "outputs": [],
   "source": [
    "# Change the title of the Odometer (KM) to represent miles instead of kilometers\n"
   ]
  }
 ],
 "metadata": {
  "kernelspec": {
   "display_name": "Python 3 (ipykernel)",
   "language": "python",
   "name": "python3"
  },
  "language_info": {
   "codemirror_mode": {
    "name": "ipython",
    "version": 3
   },
   "file_extension": ".py",
   "mimetype": "text/x-python",
   "name": "python",
   "nbconvert_exporter": "python",
   "pygments_lexer": "ipython3",
   "version": "3.10.6"
  }
 },
 "nbformat": 4,
 "nbformat_minor": 5
}
