{
 "cells": [
  {
   "cell_type": "code",
   "execution_count": 7,
   "id": "380d955a",
   "metadata": {},
   "outputs": [],
   "source": [
    "import numpy as nm\n",
    "import matplotlib.pyplot as mtp  \n",
    "import pandas as pd  "
   ]
  },
  {
   "cell_type": "code",
   "execution_count": 8,
   "id": "1eb31c0d",
   "metadata": {},
   "outputs": [
    {
     "name": "stdout",
     "output_type": "stream",
     "text": [
      "    userid  gender  salary  age  purchased\n",
      "0    12345    Male   10002   23          1\n",
      "1    12346    Male   10003   24          1\n",
      "2    12347  Female   10004   25          1\n",
      "3    12348    Male   10005   26          1\n",
      "4    12349    Male   10006   27          1\n",
      "5    12350    Male   10007   28          1\n",
      "6    12351  Female   10008   29          1\n",
      "7    12352  Female   10009   30          1\n",
      "8    12353  Female   10010   31          1\n",
      "9    12354  Female   10011   32          1\n",
      "10   12355    Male   10012   33          1\n",
      "11   12356    Male   10013   34          1\n",
      "12   12357    Male   10014   35          1\n",
      "13   12358    Male   10015   36          0\n",
      "14   12359    Male   10016   37          0\n",
      "15   12360    Male   10017   38          0\n",
      "16   12361  Female   10018   39          0\n",
      "17   12362  Female   10019   40          0\n",
      "18   12363  Female   10020   41          0\n",
      "19   12364  Female   10021   42          0\n",
      "20   12365    Male   10022   43          0\n",
      "21   12366  Female   10023   44          0\n",
      "22   12367  Female   10024   45          0\n"
     ]
    }
   ],
   "source": [
    "#importing datasets  \n",
    "data_set= pd.read_csv('user_data.csv')  \n",
    "print(data_set)"
   ]
  },
  {
   "cell_type": "code",
   "execution_count": 9,
   "id": "02438ee7",
   "metadata": {},
   "outputs": [
    {
     "name": "stdout",
     "output_type": "stream",
     "text": [
      "[[10002    23]\n",
      " [10003    24]\n",
      " [10004    25]\n",
      " [10005    26]\n",
      " [10006    27]\n",
      " [10007    28]\n",
      " [10008    29]\n",
      " [10009    30]\n",
      " [10010    31]\n",
      " [10011    32]\n",
      " [10012    33]\n",
      " [10013    34]\n",
      " [10014    35]\n",
      " [10015    36]\n",
      " [10016    37]\n",
      " [10017    38]\n",
      " [10018    39]\n",
      " [10019    40]\n",
      " [10020    41]\n",
      " [10021    42]\n",
      " [10022    43]\n",
      " [10023    44]\n",
      " [10024    45]]\n"
     ]
    }
   ],
   "source": [
    "#Extracting Independent and dependent Variable  \n",
    "x= data_set.iloc[:, [2,3]].values  \n",
    "y= data_set.iloc[:, 4].values \n",
    "print(x)"
   ]
  },
  {
   "cell_type": "code",
   "execution_count": 10,
   "id": "9deb5cba",
   "metadata": {},
   "outputs": [],
   "source": [
    "# Splitting the dataset into training and test set.  \n",
    "from sklearn.model_selection import train_test_split  \n",
    "x_train, x_test, y_train, y_test= train_test_split(x, y, test_size= 0.25, random_state=0)  "
   ]
  },
  {
   "cell_type": "code",
   "execution_count": 13,
   "id": "8d3b19d6",
   "metadata": {},
   "outputs": [
    {
     "name": "stdout",
     "output_type": "stream",
     "text": [
      "[[ 0.09985157  0.09985157]\n",
      " [-0.05446449 -0.05446449]\n",
      " [ 1.64301221  1.64301221]\n",
      " [ 0.56279976  0.56279976]\n",
      " [ 1.48869615  1.48869615]\n",
      " [-1.44330907 -1.44330907]]\n",
      "[[ 0.4084837   0.4084837 ]\n",
      " [ 1.79732827  1.79732827]\n",
      " [ 0.87143189  0.87143189]\n",
      " [-0.36309662 -0.36309662]\n",
      " [-0.67172875 -0.67172875]\n",
      " [ 1.02574795  1.02574795]\n",
      " [-0.98036088 -0.98036088]\n",
      " [-1.288993   -1.288993  ]\n",
      " [-0.82604481 -0.82604481]\n",
      " [ 1.18006402  1.18006402]\n",
      " [-0.20878056 -0.20878056]\n",
      " [-0.51741269 -0.51741269]\n",
      " [ 1.33438008  1.33438008]\n",
      " [-1.13467694 -1.13467694]\n",
      " [-1.59762513 -1.59762513]\n",
      " [ 0.71711583  0.71711583]\n",
      " [ 0.25416763  0.25416763]]\n"
     ]
    }
   ],
   "source": [
    "#feature Scaling  \n",
    "from sklearn.preprocessing import StandardScaler    \n",
    "st_x= StandardScaler()    \n",
    "x_train= st_x.fit_transform(x_train)    \n",
    "x_test= st_x.transform(x_test)  \n",
    "print(x_test)\n",
    "print(x_train)"
   ]
  },
  {
   "cell_type": "code",
   "execution_count": 14,
   "id": "3c4f02ee",
   "metadata": {},
   "outputs": [
    {
     "data": {
      "text/html": [
       "<style>#sk-container-id-1 {color: black;background-color: white;}#sk-container-id-1 pre{padding: 0;}#sk-container-id-1 div.sk-toggleable {background-color: white;}#sk-container-id-1 label.sk-toggleable__label {cursor: pointer;display: block;width: 100%;margin-bottom: 0;padding: 0.3em;box-sizing: border-box;text-align: center;}#sk-container-id-1 label.sk-toggleable__label-arrow:before {content: \"▸\";float: left;margin-right: 0.25em;color: #696969;}#sk-container-id-1 label.sk-toggleable__label-arrow:hover:before {color: black;}#sk-container-id-1 div.sk-estimator:hover label.sk-toggleable__label-arrow:before {color: black;}#sk-container-id-1 div.sk-toggleable__content {max-height: 0;max-width: 0;overflow: hidden;text-align: left;background-color: #f0f8ff;}#sk-container-id-1 div.sk-toggleable__content pre {margin: 0.2em;color: black;border-radius: 0.25em;background-color: #f0f8ff;}#sk-container-id-1 input.sk-toggleable__control:checked~div.sk-toggleable__content {max-height: 200px;max-width: 100%;overflow: auto;}#sk-container-id-1 input.sk-toggleable__control:checked~label.sk-toggleable__label-arrow:before {content: \"▾\";}#sk-container-id-1 div.sk-estimator input.sk-toggleable__control:checked~label.sk-toggleable__label {background-color: #d4ebff;}#sk-container-id-1 div.sk-label input.sk-toggleable__control:checked~label.sk-toggleable__label {background-color: #d4ebff;}#sk-container-id-1 input.sk-hidden--visually {border: 0;clip: rect(1px 1px 1px 1px);clip: rect(1px, 1px, 1px, 1px);height: 1px;margin: -1px;overflow: hidden;padding: 0;position: absolute;width: 1px;}#sk-container-id-1 div.sk-estimator {font-family: monospace;background-color: #f0f8ff;border: 1px dotted black;border-radius: 0.25em;box-sizing: border-box;margin-bottom: 0.5em;}#sk-container-id-1 div.sk-estimator:hover {background-color: #d4ebff;}#sk-container-id-1 div.sk-parallel-item::after {content: \"\";width: 100%;border-bottom: 1px solid gray;flex-grow: 1;}#sk-container-id-1 div.sk-label:hover label.sk-toggleable__label {background-color: #d4ebff;}#sk-container-id-1 div.sk-serial::before {content: \"\";position: absolute;border-left: 1px solid gray;box-sizing: border-box;top: 0;bottom: 0;left: 50%;z-index: 0;}#sk-container-id-1 div.sk-serial {display: flex;flex-direction: column;align-items: center;background-color: white;padding-right: 0.2em;padding-left: 0.2em;position: relative;}#sk-container-id-1 div.sk-item {position: relative;z-index: 1;}#sk-container-id-1 div.sk-parallel {display: flex;align-items: stretch;justify-content: center;background-color: white;position: relative;}#sk-container-id-1 div.sk-item::before, #sk-container-id-1 div.sk-parallel-item::before {content: \"\";position: absolute;border-left: 1px solid gray;box-sizing: border-box;top: 0;bottom: 0;left: 50%;z-index: -1;}#sk-container-id-1 div.sk-parallel-item {display: flex;flex-direction: column;z-index: 1;position: relative;background-color: white;}#sk-container-id-1 div.sk-parallel-item:first-child::after {align-self: flex-end;width: 50%;}#sk-container-id-1 div.sk-parallel-item:last-child::after {align-self: flex-start;width: 50%;}#sk-container-id-1 div.sk-parallel-item:only-child::after {width: 0;}#sk-container-id-1 div.sk-dashed-wrapped {border: 1px dashed gray;margin: 0 0.4em 0.5em 0.4em;box-sizing: border-box;padding-bottom: 0.4em;background-color: white;}#sk-container-id-1 div.sk-label label {font-family: monospace;font-weight: bold;display: inline-block;line-height: 1.2em;}#sk-container-id-1 div.sk-label-container {text-align: center;}#sk-container-id-1 div.sk-container {/* jupyter's `normalize.less` sets `[hidden] { display: none; }` but bootstrap.min.css set `[hidden] { display: none !important; }` so we also need the `!important` here to be able to override the default hidden behavior on the sphinx rendered scikit-learn.org. See: https://github.com/scikit-learn/scikit-learn/issues/21755 */display: inline-block !important;position: relative;}#sk-container-id-1 div.sk-text-repr-fallback {display: none;}</style><div id=\"sk-container-id-1\" class=\"sk-top-container\"><div class=\"sk-text-repr-fallback\"><pre>KNeighborsClassifier()</pre><b>In a Jupyter environment, please rerun this cell to show the HTML representation or trust the notebook. <br />On GitHub, the HTML representation is unable to render, please try loading this page with nbviewer.org.</b></div><div class=\"sk-container\" hidden><div class=\"sk-item\"><div class=\"sk-estimator sk-toggleable\"><input class=\"sk-toggleable__control sk-hidden--visually\" id=\"sk-estimator-id-1\" type=\"checkbox\" checked><label for=\"sk-estimator-id-1\" class=\"sk-toggleable__label sk-toggleable__label-arrow\">KNeighborsClassifier</label><div class=\"sk-toggleable__content\"><pre>KNeighborsClassifier()</pre></div></div></div></div></div>"
      ],
      "text/plain": [
       "KNeighborsClassifier()"
      ]
     },
     "execution_count": 14,
     "metadata": {},
     "output_type": "execute_result"
    }
   ],
   "source": [
    "    #Fitting K-NN classifier to the training set  \n",
    "    from sklearn.neighbors import KNeighborsClassifier  \n",
    "    classifier= KNeighborsClassifier(n_neighbors=5, metric='minkowski', p=2 )  \n",
    "    classifier.fit(x_train, y_train)  "
   ]
  },
  {
   "cell_type": "code",
   "execution_count": 16,
   "id": "43854038",
   "metadata": {},
   "outputs": [
    {
     "name": "stdout",
     "output_type": "stream",
     "text": [
      "[1 1 0 0 0 1]\n"
     ]
    }
   ],
   "source": [
    "    #Predicting the test set result  \n",
    "    y_pred= classifier.predict(x_test)  \n",
    "    print(y_pred)"
   ]
  },
  {
   "cell_type": "code",
   "execution_count": 18,
   "id": "57f53eab",
   "metadata": {},
   "outputs": [],
   "source": [
    "    #Creating the Confusion matrix  \n",
    "from sklearn.metrics import confusion_matrix  \n",
    "cm= confusion_matrix(y_test, y_pred)  "
   ]
  },
  {
   "cell_type": "code",
   "execution_count": 21,
   "id": "890bed50",
   "metadata": {},
   "outputs": [
    {
     "name": "stderr",
     "output_type": "stream",
     "text": [
      "*c* argument looks like a single numeric RGB or RGBA sequence, which should be avoided as value-mapping will have precedence in case its length matches with *x* & *y*.  Please use the *color* keyword-argument or provide a 2D array with a single row if you intend to specify the same RGB or RGBA value for all points.\n",
      "*c* argument looks like a single numeric RGB or RGBA sequence, which should be avoided as value-mapping will have precedence in case its length matches with *x* & *y*.  Please use the *color* keyword-argument or provide a 2D array with a single row if you intend to specify the same RGB or RGBA value for all points.\n"
     ]
    },
    {
     "data": {
      "image/png": "[encoded data removed]",
      "text/plain": [
       "<Figure size 640x480 with 1 Axes>"
      ]
     },
     "metadata": {},
     "output_type": "display_data"
    }
   ],
   "source": [
    "    #Visulaizing the trianing set result  \n",
    "    from matplotlib.colors import ListedColormap  \n",
    "    x_set, y_set = x_train, y_train  \n",
    "    x1, x2 = nm.meshgrid(nm.arange(start = x_set[:, 0].min() - 1, stop = x_set[:, 0].max() + 1, step  =0.01),  \n",
    "    nm.arange(start = x_set[:, 1].min() - 1, stop = x_set[:, 1].max() + 1, step = 0.01))  \n",
    "    mtp.contourf(x1, x2, classifier.predict(nm.array([x1.ravel(), x2.ravel()]).T).reshape(x1.shape),  \n",
    "    alpha = 0.75, cmap = ListedColormap(('red','green' )))  \n",
    "    mtp.xlim(x1.min(), x1.max())  \n",
    "    mtp.ylim(x2.min(), x2.max())  \n",
    "    for i, j in enumerate(nm.unique(y_set)):  \n",
    "        mtp.scatter(x_set[y_set == j, 0], x_set[y_set == j, 1],  \n",
    "            c = ListedColormap(('red', 'green'))(i), label = j)  \n",
    "    mtp.title('K-NN Algorithm (Training set)')  \n",
    "    mtp.xlabel('Age')  \n",
    "    mtp.ylabel('Estimated Salary')  \n",
    "    mtp.legend()  \n",
    "    mtp.show()  "
   ]
  }
 ],
 "metadata": {
  "kernelspec": {
   "display_name": "Python 3 (ipykernel)",
   "language": "python",
   "name": "python3"
  },
  "language_info": {
   "codemirror_mode": {
    "name": "ipython",
    "version": 3
   },
   "file_extension": ".py",
   "mimetype": "text/x-python",
   "name": "python",
   "nbconvert_exporter": "python",
   "pygments_lexer": "ipython3",
   "version": "3.10.6"
  }
 },
 "nbformat": 4,
 "nbformat_minor": 5
}
